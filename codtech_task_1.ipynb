{
  "nbformat": 4,
  "nbformat_minor": 0,
  "metadata": {
    "colab": {
      "provenance": [],
      "authorship_tag": "ABX9TyNbVRvnuSHl+/XG7VZyWskc",
      "include_colab_link": true
    },
    "kernelspec": {
      "name": "python3",
      "display_name": "Python 3"
    },
    "language_info": {
      "name": "python"
    }
  },
  "cells": [
    {
      "cell_type": "markdown",
      "metadata": {
        "id": "view-in-github",
        "colab_type": "text"
      },
      "source": [
        "<a href=\"https://colab.research.google.com/github/shivani8778/CodTech-Internship-Shivani-Shinde/blob/main/codtech_task_1.ipynb\" target=\"_parent\"><img src=\"https://colab.research.google.com/assets/colab-badge.svg\" alt=\"Open In Colab\"/></a>"
      ]
    },
    {
      "cell_type": "code",
      "execution_count": 2,
      "metadata": {
        "colab": {
          "base_uri": "https://localhost:8080/"
        },
        "id": "onIQmOmiweT9",
        "outputId": "74c01b38-482e-49f7-ebeb-4b0ef82dc450"
      },
      "outputs": [
        {
          "output_type": "stream",
          "name": "stdout",
          "text": [
            "\n",
            "Original Article\n",
            "================\n",
            "     Climate change refers to long-term alterations in temperature, precipitation, wind patterns,\n",
            "and other      elements of the Earth's climate system. Over the past century, human\n",
            "activities—especially the burning      of fossil fuels such as coal, oil, and gas—have been the\n",
            "primary driver of climate change. These      activities increase concentrations of greenhouse gases\n",
            "in the atmosphere, leading to more heat being      trapped and resulting in global warming. The\n",
            "consequences of climate change are far-reaching and      include more extreme weather events, rising\n",
            "sea levels, melting ice caps, and disrupted ecosystems.      Mitigation efforts focus on reducing\n",
            "greenhouse gas emissions and transitioning to renewable energy      sources, while adaptation\n",
            "involves preparing communities to cope with climate-related impacts.\n"
          ]
        },
        {
          "output_type": "stream",
          "name": "stderr",
          "text": [
            "Device set to use cpu\n"
          ]
        },
        {
          "output_type": "stream",
          "name": "stdout",
          "text": [
            "\n",
            "Summary\n",
            "=======\n",
            "Climate change refers to long-term alterations in temperature, precipitation, wind patterns, and\n",
            "other elements of the Earth's climate system. Over the past century, human activities have been the\n",
            "primary driver of climate change. Mitigation efforts focus on reducing greenhouse gas emissions.\n"
          ]
        }
      ],
      "source": [
        "# article_summarizer.py\n",
        "\n",
        "from transformers import pipeline\n",
        "import textwrap\n",
        "\n",
        "def summarize_article(text: str, max_length=130, min_length=30) -> str:\n",
        "    \"\"\"\n",
        "    Summarizes the given text using a pre-trained model from Hugging Face.\n",
        "\n",
        "    Parameters:\n",
        "    - text (str): The full article text to be summarized.\n",
        "    - max_length (int): Maximum length of the summary.\n",
        "    - min_length (int): Minimum length of the summary.\n",
        "\n",
        "    Returns:\n",
        "    - summary (str): The generated summary.\n",
        "    \"\"\"\n",
        "    summarizer = pipeline(\"summarization\", model=\"facebook/bart-large-cnn\")\n",
        "    summary = summarizer(text, max_length=max_length, min_length=min_length, do_sample=False)\n",
        "    return summary[0]['summary_text']\n",
        "\n",
        "def pretty_print(title: str, content: str, wrap_width=100):\n",
        "    print(f\"\\n{title}\\n{'=' * len(title)}\")\n",
        "    print(textwrap.fill(content, width=wrap_width))\n",
        "\n",
        "if __name__ == \"__main__\":\n",
        "    # Example lengthy article text\n",
        "    article_text = \"\"\"\n",
        "    Climate change refers to long-term alterations in temperature, precipitation, wind patterns, and other\n",
        "    elements of the Earth's climate system. Over the past century, human activities—especially the burning\n",
        "    of fossil fuels such as coal, oil, and gas—have been the primary driver of climate change. These\n",
        "    activities increase concentrations of greenhouse gases in the atmosphere, leading to more heat being\n",
        "    trapped and resulting in global warming. The consequences of climate change are far-reaching and\n",
        "    include more extreme weather events, rising sea levels, melting ice caps, and disrupted ecosystems.\n",
        "    Mitigation efforts focus on reducing greenhouse gas emissions and transitioning to renewable energy\n",
        "    sources, while adaptation involves preparing communities to cope with climate-related impacts.\n",
        "    \"\"\"\n",
        "\n",
        "    pretty_print(\"Original Article\", article_text)\n",
        "\n",
        "    summary_text = summarize_article(article_text)\n",
        "    pretty_print(\"Summary\", summary_text)\n"
      ]
    }
  ]
}